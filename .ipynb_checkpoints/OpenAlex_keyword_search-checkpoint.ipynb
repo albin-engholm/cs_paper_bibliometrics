{
 "cells": [
  {
   "cell_type": "code",
   "execution_count": 1,
   "id": "b6d22172-b21d-4fb2-9400-86ac3b568ba7",
   "metadata": {},
   "outputs": [
    {
     "name": "stdout",
     "output_type": "stream",
     "text": [
      "✅ matplotlib already installed.\n",
      "✅ seaborn already installed.\n",
      "✅ pandas already installed.\n",
      "✅ requests already installed.\n"
     ]
    }
   ],
   "source": [
    "# Package imports and installs\n",
    "import importlib\n",
    "import subprocess\n",
    "import sys\n",
    "\n",
    "required_packages = {\n",
    "    \"matplotlib\": \"matplotlib\",\n",
    "    \"seaborn\": \"seaborn\",\n",
    "    \"pandas\": \"pandas\",\n",
    "    \"requests\": \"requests\"\n",
    "}\n",
    "\n",
    "for pkg_name, import_name in required_packages.items():\n",
    "    if importlib.util.find_spec(import_name) is None:\n",
    "        print(f\"📦 Installing {pkg_name}...\")\n",
    "        subprocess.check_call([sys.executable, \"-m\", \"pip\", \"install\", pkg_name])\n",
    "    else:\n",
    "        print(f\"✅ {pkg_name} already installed.\")\n",
    "\n",
    "# Now import all the packages\n",
    "import matplotlib.pyplot as plt\n",
    "import seaborn as sns\n",
    "import pandas as pd\n",
    "import requests\n",
    "\n",
    "    "
   ]
  },
  {
   "cell_type": "code",
   "execution_count": 5,
   "id": "21aa4f36-ff3a-4e15-9ecb-4e6f0575e5af",
   "metadata": {},
   "outputs": [],
   "source": [
    "# List of keywords\n",
    "keywords = [\n",
    "    \"systems engineering\",\n",
    "    \"system dynamics\",\n",
    "    \"engineering systems\",\n",
    "    \"systemic design\",\n",
    "    \"soft systems methodology\",\n",
    "    \"systems thinking\",\n",
    "    \"complex adaptive systems\",\n",
    "    \"transition research\",\n",
    "    \"strategic niche management\",\n",
    "    \"strategic transition management\",\n",
    "    \"exploratory modeling\",\n",
    "    \"life-cycle optimization\",\n",
    "    \"operations research\",\n",
    "    \"transport policy analysis\"\n",
    "]"
   ]
  },
  {
   "cell_type": "code",
   "execution_count": 6,
   "id": "5edc0f6a-e7da-48c6-948e-8f11e9f3065d",
   "metadata": {},
   "outputs": [],
   "source": [
    "# Base API endpoint for group_by queries\n",
    "BASE_URL = \"https://api.openalex.org/works\"\n",
    "\n",
    "# Function to fetch publication year counts using group_by\n",
    "def fetch_publication_counts(keyword,journal_only=False):\n",
    "    journal_only=journal_only\n",
    "    if journal_only:\n",
    "        params = {\n",
    "            \"search\": keyword,\n",
    "            \"group_by\": \"publication_year\",\n",
    "            \"mailto\": \"your_email@example.com\",\n",
    "            \"filter\": \"primary_location.source.type:journal\"\n",
    "\n",
    "        }\n",
    "\n",
    "    else:\n",
    "        params = {\n",
    "            \"search\": keyword,\n",
    "            \"group_by\": \"publication_year\",\n",
    "            \"mailto\": \"your_email@example.com\"\n",
    "        }\n",
    "    r = requests.get(BASE_URL, params=params)\n",
    "    data = r.json()\n",
    "    \n",
    "    counts = {}\n",
    "    try:\n",
    "        for item in data[\"group_by\"]:\n",
    "            year = str(item[\"key\"])\n",
    "            counts[year] = item[\"count\"]\n",
    "    except Exception as e:\n",
    "        print(f\"Failed to parse group_by results for '{keyword}'. Error: {e}. Raw response: {data}\")\n",
    "    \n",
    "    return counts"
   ]
  },
  {
   "cell_type": "code",
   "execution_count": 7,
   "id": "f91aa958-f898-47bf-a563-c0d39e23fd39",
   "metadata": {},
   "outputs": [
    {
     "name": "stdout",
     "output_type": "stream",
     "text": [
      "Processing: systems engineering\n"
     ]
    },
    {
     "ename": "NameError",
     "evalue": "name 'requests' is not defined",
     "output_type": "error",
     "traceback": [
      "\u001b[1;31m---------------------------------------------------------------------------\u001b[0m",
      "\u001b[1;31mNameError\u001b[0m                                 Traceback (most recent call last)",
      "Cell \u001b[1;32mIn[7], line 5\u001b[0m\n\u001b[0;32m      3\u001b[0m \u001b[38;5;28;01mfor\u001b[39;00m kw \u001b[38;5;129;01min\u001b[39;00m keywords:\n\u001b[0;32m      4\u001b[0m     \u001b[38;5;28mprint\u001b[39m(\u001b[38;5;124mf\u001b[39m\u001b[38;5;124m\"\u001b[39m\u001b[38;5;124mProcessing: \u001b[39m\u001b[38;5;132;01m{\u001b[39;00mkw\u001b[38;5;132;01m}\u001b[39;00m\u001b[38;5;124m\"\u001b[39m)\n\u001b[1;32m----> 5\u001b[0m     all_data[kw] \u001b[38;5;241m=\u001b[39m fetch_publication_counts(kw)\n",
      "Cell \u001b[1;32mIn[6], line 22\u001b[0m, in \u001b[0;36mfetch_publication_counts\u001b[1;34m(keyword, journal_only)\u001b[0m\n\u001b[0;32m     16\u001b[0m \u001b[38;5;28;01melse\u001b[39;00m:\n\u001b[0;32m     17\u001b[0m     params \u001b[38;5;241m=\u001b[39m {\n\u001b[0;32m     18\u001b[0m         \u001b[38;5;124m\"\u001b[39m\u001b[38;5;124msearch\u001b[39m\u001b[38;5;124m\"\u001b[39m: keyword,\n\u001b[0;32m     19\u001b[0m         \u001b[38;5;124m\"\u001b[39m\u001b[38;5;124mgroup_by\u001b[39m\u001b[38;5;124m\"\u001b[39m: \u001b[38;5;124m\"\u001b[39m\u001b[38;5;124mpublication_year\u001b[39m\u001b[38;5;124m\"\u001b[39m,\n\u001b[0;32m     20\u001b[0m         \u001b[38;5;124m\"\u001b[39m\u001b[38;5;124mmailto\u001b[39m\u001b[38;5;124m\"\u001b[39m: \u001b[38;5;124m\"\u001b[39m\u001b[38;5;124myour_email@example.com\u001b[39m\u001b[38;5;124m\"\u001b[39m\n\u001b[0;32m     21\u001b[0m     }\n\u001b[1;32m---> 22\u001b[0m r \u001b[38;5;241m=\u001b[39m requests\u001b[38;5;241m.\u001b[39mget(BASE_URL, params\u001b[38;5;241m=\u001b[39mparams)\n\u001b[0;32m     23\u001b[0m data \u001b[38;5;241m=\u001b[39m r\u001b[38;5;241m.\u001b[39mjson()\n\u001b[0;32m     25\u001b[0m counts \u001b[38;5;241m=\u001b[39m {}\n",
      "\u001b[1;31mNameError\u001b[0m: name 'requests' is not defined"
     ]
    }
   ],
   "source": [
    "# Collect all results\n",
    "all_data = {}\n",
    "for kw in keywords:\n",
    "    print(f\"Processing: {kw}\")\n",
    "    all_data[kw] = fetch_publication_counts(kw)"
   ]
  },
  {
   "cell_type": "code",
   "execution_count": null,
   "id": "6288925c-f35d-40c3-8fd9-b8184df6932d",
   "metadata": {},
   "outputs": [],
   "source": [
    "# Convert to long-format and filter by year\n",
    "records = []\n",
    "for keyword, yearly_counts in all_data.items():\n",
    "    for year, count in yearly_counts.items():\n",
    "        try:\n",
    "            year_int = int(year)\n",
    "            records.append({\"Keyword\": keyword, \"Year\": year_int, \"Count\": count})\n",
    "        except ValueError:\n",
    "            continue\n",
    "\n",
    "df_long = pd.DataFrame(records)\n",
    "df_long = df_long[(df_long[\"Year\"] > 1900) & (df_long[\"Year\"] < 2024)]"
   ]
  },
  {
   "cell_type": "code",
   "execution_count": null,
   "id": "2f3ea5d1-2115-4cd7-8daa-a822956f9a8c",
   "metadata": {},
   "outputs": [],
   "source": [
    "# Plot with seaborn\n",
    "plt.figure(figsize=(14, 8))\n",
    "sns.lineplot(data=df_long, x=\"Year\", y=\"Count\", hue=\"Keyword\", style=\"Keyword\")\n",
    "sns.despine()\n",
    "plt.title(\"Publication Trends in OpenAlex by Keyword (Journal Articles Only)\")\n",
    "plt.xlabel(\"Year\")\n",
    "plt.ylabel(\"Number of Publications\")\n",
    "plt.grid(True)\n",
    "plt.tight_layout()\n",
    "\n",
    "plt.show()\n"
   ]
  },
  {
   "cell_type": "code",
   "execution_count": null,
   "id": "d1e59325-c2ac-443e-90c4-731a8ec27147",
   "metadata": {},
   "outputs": [],
   "source": [
    "# Show and export\n",
    "df_long.to_csv(\"openalex_keyword_trends_by_year.csv\", index=False)\n",
    "df_long.tail()\n",
    "\n",
    "# %%"
   ]
  }
 ],
 "metadata": {
  "kernelspec": {
   "display_name": "Python 3 (ipykernel)",
   "language": "python",
   "name": "python3"
  },
  "language_info": {
   "codemirror_mode": {
    "name": "ipython",
    "version": 3
   },
   "file_extension": ".py",
   "mimetype": "text/x-python",
   "name": "python",
   "nbconvert_exporter": "python",
   "pygments_lexer": "ipython3",
   "version": "3.12.9"
  }
 },
 "nbformat": 4,
 "nbformat_minor": 5
}
